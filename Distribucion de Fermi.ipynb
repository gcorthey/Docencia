{
 "cells": [
  {
   "cell_type": "markdown",
   "metadata": {},
   "source": [
    "# Distribución de Fermi-Dirac"
   ]
  },
  {
   "cell_type": "code",
   "execution_count": 1,
   "metadata": {},
   "outputs": [],
   "source": [
    "import numpy as np\n",
    "import matplotlib.pyplot as plt\n",
    "%matplotlib inline\n",
    "from ipywidgets import interactive"
   ]
  },
  {
   "cell_type": "code",
   "execution_count": 2,
   "metadata": {},
   "outputs": [],
   "source": [
    "Ef = 2 #eV Energía de Fermi del material\n",
    "kB = 8.6173324e-5 #eV/K Constante de Boltzmann"
   ]
  },
  {
   "cell_type": "code",
   "execution_count": 42,
   "metadata": {},
   "outputs": [
    {
     "data": {
      "application/vnd.jupyter.widget-view+json": {
       "model_id": "3e435b8e6cba45279d4638793a7c66e5",
       "version_major": 2,
       "version_minor": 0
      },
      "text/plain": [
       "interactive(children=(FloatSlider(value=1500.0000005000002, description='T', max=3000.0, min=1e-06), Output(la…"
      ]
     },
     "metadata": {},
     "output_type": "display_data"
    }
   ],
   "source": [
    "def plot_fermi(T):\n",
    "    E = np.arange(0,5,0.01) # Creamos un arreglo para los valores de energía\n",
    "    fE = 1/(np.exp((E-Ef)/(kB*T))+1)  # Calculamos la función probabilidad de Fermi-Dirac\n",
    "    plt.figure(figsize=(6,4))\n",
    "    plt.plot(E,fE)\n",
    "    plt.ylabel('F(E)', fontsize=20)\n",
    "    plt.xlabel('Energía', fontsize=20)\n",
    "    plt.vlines(Ef,-0.05,1.05,linestyles='dotted')\n",
    "    plt.xticks([Ef], ['$E_F$'])\n",
    "    plt.yticks([0, 0.5,1], ['0','0.5','1'])\n",
    "    plt.ylim(-0.05,1.05)\n",
    "    plt.xlim(0,)\n",
    "    plt.tick_params(labelsize=20)\n",
    "\n",
    "interactive_plot = interactive(plot_fermi, T=(0.000001, 3000))\n",
    "output = interactive_plot.children[-1]\n",
    "output.layout.height = '350px'\n",
    "interactive_plot"
   ]
  },
  {
   "cell_type": "code",
   "execution_count": null,
   "metadata": {},
   "outputs": [],
   "source": []
  }
 ],
 "metadata": {
  "kernelspec": {
   "display_name": "Python 3",
   "language": "python",
   "name": "python3"
  },
  "language_info": {
   "codemirror_mode": {
    "name": "ipython",
    "version": 3
   },
   "file_extension": ".py",
   "mimetype": "text/x-python",
   "name": "python",
   "nbconvert_exporter": "python",
   "pygments_lexer": "ipython3",
   "version": "3.6.10"
  }
 },
 "nbformat": 4,
 "nbformat_minor": 4
}
